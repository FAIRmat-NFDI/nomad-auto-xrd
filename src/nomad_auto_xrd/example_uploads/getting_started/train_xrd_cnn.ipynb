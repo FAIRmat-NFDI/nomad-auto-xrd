{
 "cells": [
  {
   "cell_type": "markdown",
   "metadata": {},
   "source": [
    "# Auto XRD analyisis\n",
    "\n",
    "In this notebook we exemplify how to train an [XRD-AutoAnalyzer](https://github.com/njszym/XRD-AutoAnalyzer) (CNN) model on a chemical space. For that, we will use the nomad-auto-xrd plugins that has come handy functions to train the model and to save it in NOMAD.\n",
    "\n",
    "Then, we will save the model(s) trainned as an entry in NOMAD, so we can serach for them and reuse them easily. \n",
    "Once we have done this, we will analyse some of the diffraction patterns that we have already uploaded in NOMAD, to match the phases to the diffraction patterns. "
   ]
  },
  {
   "cell_type": "markdown",
   "metadata": {},
   "source": [
    "First let's run some imports"
   ]
  },
  {
   "cell_type": "code",
   "execution_count": 9,
   "metadata": {
    "tags": [
     "hide"
    ]
   },
   "outputs": [],
   "source": [
    "import warnings\n",
    "\n",
    "# Suppress specific warnings\n",
    "warnings.filterwarnings(\"ignore\", category=UserWarning, module=\"pymatgen.io.cif\")\n",
    "warnings.filterwarnings(\"ignore\", category=DeprecationWarning, module=\"spglib\")"
   ]
  },
  {
   "cell_type": "code",
   "execution_count": 10,
   "metadata": {},
   "outputs": [],
   "source": [
    "from nomad_auto_xrd.train_xrd_cnn import ModelConfig, run_xrd_model"
   ]
  },
  {
   "cell_type": "markdown",
   "metadata": {},
   "source": [
    "The `ModelConfig` class is defined in `train_xrd_cnn.py` and is used to define the model architecture and training parameters. The `run_xrd_model` function is used to train the model. The `run_xrd_model` function takes a `ModelConfig` object as an argument and returns a trained model. The trained model can then be used to make predictions on new XRD data.\n",
    "\n",
    "Let's start by inspecting the default model configuration."
   ]
  },
  {
   "cell_type": "code",
   "execution_count": null,
   "metadata": {},
   "outputs": [],
   "source": [
    "config = ModelConfig() # default config\n",
    "config"
   ]
  },
  {
   "cell_type": "markdown",
   "metadata": {},
   "source": [
    "To train the model, we need to provide a folder with the structure files that we want to use to train the model. We will store them in the `All_CIFs` folder, which is the default one used by [XRD-AutoAnalyzer](https://github.com/njszym/XRD-AutoAnalyzer). One can also update the `config`  to change the default parameters of the model. Here we will reduce the number of epochs to 1, to make the training faster. Also, we will set the `save_nomad_metadata` to `True` to create an archive of this model. This will allow us to find it and reuse later on to run inference on experimental data."
   ]
  },
  {
   "cell_type": "code",
   "execution_count": null,
   "metadata": {},
   "outputs": [],
   "source": [
    "# Redefine some model parameters\n",
    "config=ModelConfig(\n",
    "num_epochs = 1,\n",
    "save_nomad_metadata=True)\n",
    "\n",
    "# Run the training\n",
    "run_xrd_model(config)\n"
   ]
  }
 ],
 "metadata": {
  "kernelspec": {
   "display_name": ".pyenv",
   "language": "python",
   "name": "python3"
  },
  "language_info": {
   "codemirror_mode": {
    "name": "ipython",
    "version": 3
   },
   "file_extension": ".py",
   "mimetype": "text/x-python",
   "name": "python",
   "nbconvert_exporter": "python",
   "pygments_lexer": "ipython3",
   "version": "3.11.9"
  }
 },
 "nbformat": 4,
 "nbformat_minor": 2
}
