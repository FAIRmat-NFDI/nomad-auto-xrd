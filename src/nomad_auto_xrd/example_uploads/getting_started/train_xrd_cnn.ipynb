{
 "cells": [
  {
   "cell_type": "markdown",
   "metadata": {},
   "source": [
    "# Auto XRD analyisis\n",
    "\n",
    "In this notebook we exemplify how to train an [XRD-AutoAnalyzer](https://github.com/njszym/XRD-AutoAnalyzer) (CNN) model on a chemical space. For that, we will use the nomad-auto-xrd plugins that has come handy functions to train the model and to save it in NOMAD.\n",
    "\n",
    "Then, we will save the model(s) trainned as an entry in NOMAD, so we can serach for them and reuse them easily. \n",
    "Once we have done this, we will analyse some of the diffraction patterns that we have already uploaded in NOMAD, to match the phases to the diffraction patterns. "
   ]
  },
  {
   "cell_type": "markdown",
   "metadata": {},
   "source": [
    "### (!!) Some temporary installers until this gets solved in NORTH\n",
    "\n",
    "```python\n",
    "!pip install nomad_auto_xrd@git+https://github.com/FAIRmat-NFDI/nomad-auto-xrd\n",
    "!pip install --upgrade pyxtal\n",
    "```"
   ]
  },
  {
   "cell_type": "markdown",
   "metadata": {},
   "source": [
    "First let's run some imports"
   ]
  },
  {
   "cell_type": "code",
   "execution_count": 12,
   "metadata": {},
   "outputs": [],
   "source": [
    "import warnings\n",
    "\n",
    "# Suppress specific warnings\n",
    "warnings.filterwarnings('ignore', category=UserWarning, module='pymatgen.io.cif')\n",
    "warnings.filterwarnings('ignore', category=DeprecationWarning, module='spglib')"
   ]
  },
  {
   "cell_type": "code",
   "execution_count": null,
   "metadata": {},
   "outputs": [],
   "source": [
    "from nomad_auto_xrd.train_xrd_cnn import ModelConfig, run_xrd_model"
   ]
  },
  {
   "cell_type": "markdown",
   "metadata": {},
   "source": [
    "The `ModelConfig` class is defined in `train_xrd_cnn.py` and is used to define the model architecture and training parameters. The `run_xrd_model` function is used to train the model. The `run_xrd_model` function takes a `ModelConfig` object as an argument and returns a trained model. The trained model can then be used to make predictions on new XRD data.\n",
    "\n",
    "Let's start by inspecting the default model configuration."
   ]
  },
  {
   "cell_type": "code",
   "execution_count": null,
   "metadata": {},
   "outputs": [],
   "source": [
    "config = ModelConfig()  # default config\n",
    "config"
   ]
  },
  {
   "cell_type": "markdown",
   "metadata": {},
   "source": [
    "## Train the model with the default configuration\n",
    "\n",
    "You can simple run the model with the default configuration by running the following cell. For that you will need to have your cif files in the `all_cifs_dir` folder."
   ]
  },
  {
   "cell_type": "code",
   "execution_count": null,
   "metadata": {},
   "outputs": [],
   "source": [
    "# Run the model with the defaults\n",
    "run_xrd_model(config)"
   ]
  },
  {
   "cell_type": "markdown",
   "metadata": {},
   "source": [
    "To train the model, we need to provide a folder with the structure files that we want to use to train the model. We will store them in the `All_CIFs` folder, which is the default one used by [XRD-AutoAnalyzer](https://github.com/njszym/XRD-AutoAnalyzer). One can also update the `config`  to change the default parameters of the model. Here we will reduce the number of epochs to 1, to make the training faster. Also, we will set the `save_nomad_metadata` to `True` to create an archive of this model. This will allow us to find it and reuse later on to run inference on experimental data."
   ]
  },
  {
   "cell_type": "code",
   "execution_count": null,
   "metadata": {},
   "outputs": [],
   "source": [
    "# Redefine some model parameters\n",
    "config = ModelConfig(\n",
    "    num_epochs=1,\n",
    "    save_nomad_metadata=True,\n",
    "    skip_filter=True,\n",
    ")\n",
    "\n",
    "# Run the training\n",
    "run_xrd_model(config)"
   ]
  },
  {
   "cell_type": "markdown",
   "metadata": {},
   "source": [
    "## Tracking with Weights and Biases\n",
    "\n",
    "Addionally, we wilcanl use [Weights and Biases](https://wandb.ai/site) to track the training of the model. This will allow us to monitor the training process and compare different models. To use Weights and Biases, you need to create an account and set up a project. After that, you will get an API key that you can use to authenticate your account.\n",
    "\n",
    "You can then set the `wandb_project` and `wandb_entity` parameters in the `ModelConfig` object to the name of your project and you WandB user. We can track the link also in the NOMAD archive."
   ]
  },
  {
   "cell_type": "code",
   "execution_count": null,
   "metadata": {},
   "outputs": [],
   "source": [
    "import getpass\n",
    "\n",
    "import wandb\n",
    "\n",
    "# Prompt the user to input the API key securely\n",
    "api_key = getpass.getpass('Enter your W&B API key: ')\n",
    "\n",
    "# Login with the API key\n",
    "wandb.login(key=api_key)"
   ]
  },
  {
   "cell_type": "markdown",
   "metadata": {},
   "source": [
    "Do not forget to set the `wandd_entity` and `wandb_project` to your own user and project."
   ]
  },
  {
   "cell_type": "code",
   "execution_count": null,
   "metadata": {},
   "outputs": [],
   "source": [
    "# Redefine some model parameters\n",
    "config = ModelConfig(\n",
    "    num_epochs=1,\n",
    "    save_nomad_metadata=True,\n",
    "    enable_wandb=True,\n",
    "    skip_filter=True,\n",
    "    wandb_project='nomad_auto_xrd_test',\n",
    "    wandb_entity='pepemarquez',\n",
    ")\n",
    "\n",
    "# Run the training\n",
    "run_xrd_model(config)"
   ]
  }
 ],
 "metadata": {
  "kernelspec": {
   "display_name": ".pyenv",
   "language": "python",
   "name": "python3"
  },
  "language_info": {
   "codemirror_mode": {
    "name": "ipython",
    "version": 3
   },
   "file_extension": ".py",
   "mimetype": "text/x-python",
   "name": "python",
   "nbconvert_exporter": "python",
   "pygments_lexer": "ipython3",
   "version": "3.11.9"
  }
 },
 "nbformat": 4,
 "nbformat_minor": 2
}
