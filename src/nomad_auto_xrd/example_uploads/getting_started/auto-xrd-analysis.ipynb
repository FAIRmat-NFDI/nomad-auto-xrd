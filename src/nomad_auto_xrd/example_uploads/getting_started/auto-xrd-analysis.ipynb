{
 "cells": [
  {
   "cell_type": "markdown",
   "metadata": {},
   "source": [
    "# Running Auto XRD Analysis\n",
    "\n",
    "We can now run inference in our train models. We will data coming from a NOMAD archive in \n",
    "the first example and the mdoels that we have in the archive."
   ]
  },
  {
   "cell_type": "code",
   "execution_count": 1,
   "metadata": {},
   "outputs": [],
   "source": [
    "# from nomad_auto_xrd.auto_xrd_analysis import run_analysis\n",
    "from nomad_auto_xrd.auto_xrd_analysis import (\n",
    "    AnalysisSettings,\n",
    "    run_analysis_existing_spectra,\n",
    "    run_analysis_with_patterns_archive,\n",
    ")\n",
    "\n",
    "settings = AnalysisSettings()\n",
    "run_analysis_with_patterns_archive(\n",
    "    settings,\n",
    "    'model_metadata.archive.json',\n",
    "    'xrd_archive.json',\n",
    "    'custom_results.json'\n",
    "    )"
   ]
  },
  {
   "cell_type": "markdown",
   "metadata": {},
   "source": [
    "Optionally, we can run it as it is classically done in AutoXRD, specifying the model path,\n",
    "the path to the cif files and the path to the folder where the patterns are located in \n",
    "`.xy` format. We can also override the default parameters of the model."
   ]
  },
  {
   "cell_type": "code",
   "execution_count": null,
   "metadata": {},
   "outputs": [],
   "source": [
    "\n",
    "settings = AnalysisSettings(\n",
    "    structure_references_directory='References',\n",
    "    patterns_folder_directory='Spectra',\n",
    "    xrd_model='Models/XRD_Model.h5',\n",
    "    max_phases=5,\n",
    "    min_confidence=30,\n",
    "    include_pdf=True,\n",
    ")\n",
    "run_analysis_existing_spectra(\n",
    "    settings,\n",
    "    'model_metadata.archive.json',\n",
    "    'custom_results.json')"
   ]
  }
 ],
 "metadata": {
  "kernelspec": {
   "display_name": ".pyenv",
   "language": "python",
   "name": "python3"
  },
  "language_info": {
   "codemirror_mode": {
    "name": "ipython",
    "version": 3
   },
   "file_extension": ".py",
   "mimetype": "text/x-python",
   "name": "python",
   "nbconvert_exporter": "python",
   "pygments_lexer": "ipython3",
   "version": "3.11.9"
  }
 },
 "nbformat": 4,
 "nbformat_minor": 2
}
