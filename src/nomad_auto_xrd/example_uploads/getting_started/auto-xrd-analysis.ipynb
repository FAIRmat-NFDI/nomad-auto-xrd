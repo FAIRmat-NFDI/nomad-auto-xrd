{
 "cells": [
  {
   "cell_type": "code",
   "execution_count": 8,
   "metadata": {},
   "outputs": [
    {
     "ename": "ImportError",
     "evalue": "cannot import name 'AnalysisSettings' from 'nomad_auto_xrd.auto_xrd_analysis' (/home/pepe_marquez/NOMAD/nomad/plugins/nomad-auto-xrd/src/nomad_auto_xrd/auto_xrd_analysis.py)",
     "output_type": "error",
     "traceback": [
      "\u001b[0;31m---------------------------------------------------------------------------\u001b[0m",
      "\u001b[0;31mImportError\u001b[0m                               Traceback (most recent call last)",
      "Cell \u001b[0;32mIn[8], line 1\u001b[0m\n\u001b[0;32m----> 1\u001b[0m \u001b[38;5;28;01mfrom\u001b[39;00m \u001b[38;5;21;01mnomad_auto_xrd\u001b[39;00m\u001b[38;5;21;01m.\u001b[39;00m\u001b[38;5;21;01mauto_xrd_analysis\u001b[39;00m \u001b[38;5;28;01mimport\u001b[39;00m (\n\u001b[1;32m      2\u001b[0m     AnalysisSettings,\n\u001b[1;32m      3\u001b[0m     run_analysis_existing_spectra,\n\u001b[1;32m      4\u001b[0m     run_analysis_with_patterns_archive,\n\u001b[1;32m      5\u001b[0m )\n",
      "\u001b[0;31mImportError\u001b[0m: cannot import name 'AnalysisSettings' from 'nomad_auto_xrd.auto_xrd_analysis' (/home/pepe_marquez/NOMAD/nomad/plugins/nomad-auto-xrd/src/nomad_auto_xrd/auto_xrd_analysis.py)"
     ]
    }
   ],
   "source": [
    "from nomad_auto_xrd.auto_xrd_analysis import (\n",
    "    AnalysisSettings,\n",
    "    run_analysis_existing_spectra,\n",
    "    run_analysis_with_patterns_archive,\n",
    ")\n"
   ]
  },
  {
   "cell_type": "code",
   "execution_count": 1,
   "metadata": {},
   "outputs": [],
   "source": [
    "# from nomad_auto_xrd.auto_xrd_analysis import run_analysis\n",
    "\n",
    "settings = AnalysisSettings(\n",
    "    # structure_references_directory='References',\n",
    "    # xrd_model='Models/XRD_Model.h5',\n",
    "    max_phases=5,\n",
    "    min_confidence=30,\n",
    "    include_pdf=True,\n",
    ")\n",
    "run_analysis_with_patterns_archive(settings, 'model_metadata.archive.json', 'xrd_archive.json', 'custom_results.json')"
   ]
  },
  {
   "cell_type": "code",
   "execution_count": null,
   "metadata": {},
   "outputs": [],
   "source": [
    "settings = AnalysisSettings(\n",
    "    structure_references_directory='References',\n",
    "    patterns_folder_directory='Spectra',\n",
    "    xrd_model='Models/XRD_Model.h5',\n",
    "    max_phases=5,\n",
    "    min_confidence=30,\n",
    "    include_pdf=True,\n",
    ")\n",
    "run_analysis_existing_spectra(settings, 'model_metadata.archive.json', 'custom_results.json')"
   ]
  }
 ],
 "metadata": {
  "kernelspec": {
   "display_name": ".pyenv",
   "language": "python",
   "name": "python3"
  },
  "language_info": {
   "codemirror_mode": {
    "name": "ipython",
    "version": 3
   },
   "file_extension": ".py",
   "mimetype": "text/x-python",
   "name": "python",
   "nbconvert_exporter": "python",
   "pygments_lexer": "ipython3",
   "version": "3.11.9"
  }
 },
 "nbformat": 4,
 "nbformat_minor": 2
}
