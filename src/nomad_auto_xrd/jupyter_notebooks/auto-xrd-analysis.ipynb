{
 "cells": [
  {
   "cell_type": "markdown",
   "metadata": {
    "tags": [
     "predefined",
     "content"
    ]
   },
   "source": [
    "# Auto XRD Analysis\n",
    "\n",
    "This notebook allows to run automatic XRD analysis using a pre-trained ML\n",
    "model. The input required for the analysis (including the model and the XRD\n",
    "entry) should be specified in the `AutoXRDAnalysis` ELN.\n",
    "\n",
    "The first step is loading the ELN entry in the notebook. The ML model specified\n",
    "in the entry is loaded and the XRD data is passed through it to generate a\n",
    "prediction. It includes a list of most probable phases that might be present in\n",
    "the XRD data. To run this inference, we import some functions from\n",
    "`nomad_auto_xrd.inference` module."
   ]
  },
  {
   "cell_type": "markdown",
   "metadata": {
    "tags": [
     "predefined",
     "content"
    ]
   },
   "source": [
    "## Loading the Analysis entry"
   ]
  },
  {
   "cell_type": "code",
   "execution_count": null,
   "metadata": {
    "tags": [
     "predefined",
     "variable"
    ]
   },
   "outputs": [],
   "source": [
    "analysis_entry_id = ''"
   ]
  },
  {
   "cell_type": "code",
   "execution_count": null,
   "metadata": {
    "tags": [
     "predefined",
     "loading-analysis-entry"
    ]
   },
   "outputs": [],
   "source": [
    "from nomad.client import ArchiveQuery\n",
    "from nomad.config import config\n",
    "\n",
    "url = config.client.url\n",
    "\n",
    "entries = ArchiveQuery(\n",
    "    query={\n",
    "        'entry_id:any': [analysis_entry_id],\n",
    "    },\n",
    "    url=url,\n",
    ").download(1)\n",
    "\n",
    "if entries:\n",
    "    analysis_entry = entries[0]\n",
    "    print(f'analysis_entry: {analysis_entry}')\n",
    "else:\n",
    "    print('Analysis entry not found.')"
   ]
  }
 ],
 "metadata": {
  "kernelspec": {
   "display_name": ".venv",
   "language": "python",
   "name": "python3"
  },
  "language_info": {
   "codemirror_mode": {
    "name": "ipython",
    "version": 3
   },
   "file_extension": ".py",
   "mimetype": "text/x-python",
   "name": "python",
   "nbconvert_exporter": "python",
   "pygments_lexer": "ipython3",
   "version": "3.12.8"
  }
 },
 "nbformat": 4,
 "nbformat_minor": 2
}
