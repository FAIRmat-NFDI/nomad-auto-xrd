{
 "cells": [
  {
   "cell_type": "markdown",
   "metadata": {
    "tags": [
     "predefined",
     "content"
    ]
   },
   "source": [
    "# Auto XRD Model Training\n",
    "\n",
    "This notebook allows to run the training of a ML model that can be used for\n",
    "automated XRD analysis. The input required for the analysis (including the CIF\n",
    "files and the composition space) should be specified in the `AutoXRDTraining`\n",
    "ELN.\n",
    "\n",
    "The first step is loading the ELN entry in the notebook. The CIF files for the\n",
    "reference phases are used to generate simulated XRD patterns. These are used to\n",
    "train a ML model that learns to identify the phase associated with a given XRD\n",
    "pattern. The trained model is saved in the current upload and indexed with a\n",
    "`AutoXRDModel` entry. To run the training, we import some functions from\n",
    "`nomad_auto_xrd.training` module."
   ]
  },
  {
   "cell_type": "markdown",
   "metadata": {
    "tags": [
     "predefined",
     "content"
    ]
   },
   "source": [
    "## Loading the Training entry"
   ]
  },
  {
   "cell_type": "code",
   "execution_count": null,
   "metadata": {
    "tags": [
     "predefined",
     "variable"
    ]
   },
   "outputs": [],
   "source": [
    "training_entry_id = ''"
   ]
  },
  {
   "cell_type": "code",
   "execution_count": null,
   "metadata": {
    "tags": [
     "predefined",
     "loading-training-entry"
    ]
   },
   "outputs": [],
   "source": [
    "from nomad.client import ArchiveQuery\n",
    "from nomad.config import config\n",
    "\n",
    "url = config.client.url\n",
    "\n",
    "entries = ArchiveQuery(\n",
    "    query={\n",
    "        'entry_id:any': [training_entry_id],\n",
    "    },\n",
    "    url=url,\n",
    ").download(1)\n",
    "\n",
    "if entries:\n",
    "    training_entry = entries[0]\n",
    "    print(f'training_entry: {training_entry}')\n",
    "else:\n",
    "    print('Training entry not found.')"
   ]
  }
 ],
 "metadata": {
  "kernelspec": {
   "display_name": ".venv",
   "language": "python",
   "name": "python3"
  },
  "language_info": {
   "codemirror_mode": {
    "name": "ipython",
    "version": 3
   },
   "file_extension": ".py",
   "mimetype": "text/x-python",
   "name": "python",
   "nbconvert_exporter": "python",
   "pygments_lexer": "ipython3",
   "version": "3.12.8"
  }
 },
 "nbformat": 4,
 "nbformat_minor": 2
}
